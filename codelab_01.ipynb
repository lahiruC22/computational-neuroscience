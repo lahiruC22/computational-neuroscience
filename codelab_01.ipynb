{
  "nbformat": 4,
  "nbformat_minor": 0,
  "metadata": {
    "colab": {
      "provenance": [],
      "authorship_tag": "ABX9TyP+EXnkSXOf9nc8GIL7bWTa",
      "include_colab_link": true
    },
    "kernelspec": {
      "name": "python3",
      "display_name": "Python 3"
    },
    "language_info": {
      "name": "python"
    }
  },
  "cells": [
    {
      "cell_type": "markdown",
      "metadata": {
        "id": "view-in-github",
        "colab_type": "text"
      },
      "source": [
        "<a href=\"https://colab.research.google.com/github/lahiruC22/computational-neuroscience/blob/main/codelab_01.ipynb\" target=\"_parent\"><img src=\"https://colab.research.google.com/assets/colab-badge.svg\" alt=\"Open In Colab\"/></a>"
      ]
    },
    {
      "cell_type": "markdown",
      "source": [
        "Computational Neuroscience - University of Washington - Quiz 01\n",
        "\n",
        "---\n",
        "\n",
        "**The aim of the quiz:**\n",
        "*   Understand how to calculate a spiked-triggered average\n",
        "*   To identify the usage of spiked-triggered average in determining the relevant features within a stimulus.  \n",
        "\n",
        "**Dataset:**  \n",
        "Data set is an experimentally recorded set of spikes recorded from the famous H1 motion-sensitive neuron of the fly [Calliphora vicina.](https://encrypted-tbn0.gstatic.com/licensed-image?q=tbn:ANd9GcTF42TmSzN6xcJ-JevfBbQvaxYqwj5_PnomHL4ZqqzOneFH3X9NqU6SRfzuYPK1zjJaIikwPOGwflQ5bSU) from the lab of Dr Robert de Ruyter van Steveninck.\n",
        "\n"
      ],
      "metadata": {
        "id": "yxsfW-DYF1re"
      }
    },
    {
      "cell_type": "code",
      "execution_count": 2,
      "metadata": {
        "id": "_7KwXZyg0V4M"
      },
      "outputs": [],
      "source": [
        "\"\"\"Code to compute spike-triggered average.\"\"\"\n",
        "#importing the necessary libraries\n",
        "from __future__ import division\n",
        "import numpy as np\n",
        "import matplotlib.pyplot as plt\n",
        "import pickle"
      ]
    },
    {
      "cell_type": "code",
      "source": [
        "FILENAME = 'clp8.pickle'\n",
        "with open(FILENAME,'rb') as f:\n",
        "  data = pickle.load(f)\n",
        "\n",
        "stim = data['stim']\n",
        "rho = data['rho']\n",
        "\n",
        "sampling_periods = # in ms\n",
        "num_timesteps =\n",
        "\n",
        "sta = compute_sta(stim, rho, num_timesteps)\n",
        "\n",
        "time = (np.arrange(-num_timesteps,0)+1)*sampling_period\n",
        "\n",
        "plt.plot(time,sta)\n",
        "plt.xlabel('Time(ms)')\n",
        "plt.ylabel('stimulus')\n",
        "plt.title('Spike-Triggered Average')\n",
        "\n",
        "plt.show()"
      ],
      "metadata": {
        "id": "cvcUFjjZWeOM"
      },
      "execution_count": null,
      "outputs": []
    },
    {
      "cell_type": "code",
      "source": [
        "def compute_sta(stim, rho, num_timesteps):\n",
        "  \"\"\"Compute the spike-triggered average from a stimulus and spike-train.\n",
        "\n",
        "  Args:\n",
        "    stim: stimulus time-series\n",
        "    rho: spike-train time-series\n",
        "    num_timesteps: how many timesteps to use in STA\n",
        "\n",
        "  Returns:\n",
        "    spike-triggered average for num_timesteps timesteps before spike\"\"\"\n",
        "\n",
        "  sta = np.zeros((num_timesteps))\n",
        "\n",
        "  # This command finds the indices of all of the spikes that occur\n",
        "  # after 300ms into the recording\n",
        "  spike_times = rho[num_timesteps:].nonzero()[0] + num_timesteps\n",
        "\n",
        "  # Note that you should not count spikes that occur\n",
        "  # before 300ms into the recording\n",
        "  num_spikes =\n",
        "\n",
        "  # Compute the spike-triggered average of the spikes found.\n",
        "  # To do this, compute the average of all of the vectors\n",
        "  # starting 300 ms (exclusive) before a spike and ending at the time of\n",
        "  # the event (inclusive). Each of these vectors defines a list of samples\n",
        "  # that is contained within a window of 300 ms before each spike.\n",
        "  # The average of these vectors should be completed in an element-wise manner\n",
        "\n",
        "  return sta"
      ],
      "metadata": {
        "id": "wdwU4mEEOIE-"
      },
      "execution_count": null,
      "outputs": []
    },
    {
      "cell_type": "markdown",
      "source": [],
      "metadata": {
        "id": "MtW3yAADMscq"
      }
    }
  ]
}
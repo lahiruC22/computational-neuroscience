{
  "nbformat": 4,
  "nbformat_minor": 0,
  "metadata": {
    "colab": {
      "provenance": [],
      "authorship_tag": "ABX9TyPEVkJVmGYL2049sDkSJatz",
      "include_colab_link": true
    },
    "kernelspec": {
      "name": "python3",
      "display_name": "Python 3"
    },
    "language_info": {
      "name": "python"
    }
  },
  "cells": [
    {
      "cell_type": "markdown",
      "metadata": {
        "id": "view-in-github",
        "colab_type": "text"
      },
      "source": [
        "<a href=\"https://colab.research.google.com/github/lahiruC22/computational-neuroscience/blob/main/codelab_01.ipynb\" target=\"_parent\"><img src=\"https://colab.research.google.com/assets/colab-badge.svg\" alt=\"Open In Colab\"/></a>"
      ]
    },
    {
      "cell_type": "markdown",
      "source": [
        "Computational Neuroscience - University of Washington - Quiz 01\n",
        "\n",
        "---\n",
        "\n",
        "**The aim of the quiz:**\n",
        "*   Understand how to calculate a spiked-triggered average\n",
        "*   To identify the usage of spiked-triggered average in determining the relevant features within a stimulus.  \n",
        "\n",
        "**Dataset:**  \n",
        "Data set is an experimentally recorded set of spikes recorded from the famous H1 motion-sensitive neuron of the fly [Calliphora vicina.](https://encrypted-tbn0.gstatic.com/licensed-image?q=tbn:ANd9GcTF42TmSzN6xcJ-JevfBbQvaxYqwj5_PnomHL4ZqqzOneFH3X9NqU6SRfzuYPK1zjJaIikwPOGwflQ5bSU) from the lab of Dr Robert de Ruyter van Steveninck.\n",
        "\n"
      ],
      "metadata": {
        "id": "yxsfW-DYF1re"
      }
    },
    {
      "cell_type": "code",
      "execution_count": 2,
      "metadata": {
        "id": "_7KwXZyg0V4M"
      },
      "outputs": [],
      "source": [
        "\"\"\"Code to compute spike-triggered average.\"\"\"\n",
        "#importing the necessary libraries\n",
        "from __future__ import division\n",
        "import numpy as np\n",
        "import matplotlib.pyplot as plt"
      ]
    },
    {
      "cell_type": "code",
      "source": [
        "def"
      ],
      "metadata": {
        "id": "wdwU4mEEOIE-"
      },
      "execution_count": null,
      "outputs": []
    },
    {
      "cell_type": "markdown",
      "source": [],
      "metadata": {
        "id": "MtW3yAADMscq"
      }
    }
  ]
}